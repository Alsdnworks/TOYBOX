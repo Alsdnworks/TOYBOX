{
 "cells": [
  {
   "cell_type": "code",
   "execution_count": null,
   "id": "74298e1f",
   "metadata": {},
   "outputs": [],
   "source": [
    "import geopandas as gpd\n",
    "import folium\n",
    "import geodatasets\n",
    "chicago = gpd.read_file(geodatasets.get_path(\"geoda.chicago_commpop\"))\n",
    "groceries = gpd.read_file(geodatasets.get_path(\"geoda.groceries\")).explode(ignore_index=True)\n",
    "m = chicago.explore(\n",
    "    column=\"POP2010\",  # make choropleth based on \"POP2010\" column\n",
    "    scheme=\"naturalbreaks\",  # use mapclassify's natural breaks scheme\n",
    "    legend=True,  # show legend\n",
    "    k=10,  # use 10 bins\n",
    "    tooltip=False,  # hide tooltip\n",
    "    popup=[\"POP2010\", \"POP2000\"],  # show popup (on-click)\n",
    "    legend_kwds=dict(colorbar=False),  # do not use colorbar\n",
    "    name=\"chicago\",  # name of the layer in the map\n",
    ")\n",
    "\n",
    "groceries.explore(\n",
    "    m=m,  # pass the map object\n",
    "    color=\"red\",  # use red color on all points\n",
    "    marker_kwds=dict(radius=5, fill=True),  # make marker radius 10px with fill\n",
    "    tooltip=\"Address\",  # show \"name\" column in the tooltip\n",
    "    tooltip_kwds=dict(labels=False),  # do not show column label in the tooltip\n",
    "    name=\"groceries\",  # name of the layer in the map\n",
    ")\n",
    "# use folium to add alternative tiles\n",
    "folium.TileLayer(\"CartoDB positron\", show=False).add_to(m)  \n",
    "folium.LayerControl().add_to(m)  # use folium to add layer control"
   ]
  },
  {
   "cell_type": "code",
   "execution_count": null,
   "id": "80950c84",
   "metadata": {},
   "outputs": [],
   "source": [
    "from branca.element import Figure\n",
    "fig = Figure(width=\"100%\", height=\"300px\")\n",
    "fig.add_child(m)\n",
    "fig"
   ]
  },
  {
   "cell_type": "code",
   "execution_count": null,
   "id": "1d4205e3",
   "metadata": {},
   "outputs": [],
   "source": [
    "from branca.element import Figure\n",
    "from maptoggle import enable_map_toggle\n",
    "fig = Figure(width=\"100%\", height=\"300px\")\n",
    "fig.add_child(m)\n",
    "enable_map_toggle(fig)"
   ]
  }
 ],
 "metadata": {
  "kernelspec": {
   "display_name": "Python 3",
   "language": "python",
   "name": "python3"
  },
  "language_info": {
   "codemirror_mode": {
    "name": "ipython",
    "version": 3
   },
   "file_extension": ".py",
   "mimetype": "text/x-python",
   "name": "python",
   "nbconvert_exporter": "python",
   "pygments_lexer": "ipython3",
   "version": "3.13.7"
  }
 },
 "nbformat": 4,
 "nbformat_minor": 5
}
